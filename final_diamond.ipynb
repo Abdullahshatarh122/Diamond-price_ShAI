{
  "nbformat": 4,
  "nbformat_minor": 0,
  "metadata": {
    "colab": {
      "provenance": [],
      "authorship_tag": "ABX9TyNne4xXKLt4t/lmkLXABChe",
      "include_colab_link": true
    },
    "kernelspec": {
      "name": "python3",
      "display_name": "Python 3"
    },
    "language_info": {
      "name": "python"
    }
  },
  "cells": [
    {
      "cell_type": "markdown",
      "metadata": {
        "id": "view-in-github",
        "colab_type": "text"
      },
      "source": [
        "<a href=\"https://colab.research.google.com/github/Abdullahshatarh122/Diamond-price_ShAI/blob/main/final_diamond.ipynb\" target=\"_parent\"><img src=\"https://colab.research.google.com/assets/colab-badge.svg\" alt=\"Open In Colab\"/></a>"
      ]
    },
    {
      "cell_type": "markdown",
      "source": [
        "# Geting data\n"
      ],
      "metadata": {
        "id": "Q5ImWrbpLmrE"
      }
    },
    {
      "cell_type": "code",
      "source": [
        "import numpy as np # linear algebra\n",
        "import pandas as pd # data processing, CSV file I/O (e.g. pd.read_csv)\n",
        "import numpy as np\n",
        "import pandas as pd\n",
        "from sklearn.preprocessing import OneHotEncoder, LabelEncoder\n",
        "import seaborn as sns\n",
        "from sklearn.model_selection import train_test_split\n",
        "import matplotlib.pyplot as plt\n",
        "from sklearn.model_selection import StratifiedShuffleSplit\n"
      ],
      "metadata": {
        "id": "rfyucRyuL3oU"
      },
      "execution_count": null,
      "outputs": []
    },
    {
      "cell_type": "code",
      "source": [
        "data = pd.read_csv(\"/content/train.csv\")\n",
        "data_test = pd.read_csv(\"/content/test.csv\")\n",
        "data.head()"
      ],
      "metadata": {
        "colab": {
          "base_uri": "https://localhost:8080/",
          "height": 206
        },
        "id": "Jy6Cjah2L31A",
        "outputId": "fde475f8-f1c3-44af-eef4-ca25a6f8014a"
      },
      "execution_count": null,
      "outputs": [
        {
          "output_type": "execute_result",
          "data": {
            "text/plain": [
              "   Id  carat      cut color clarity  depth  table  price     x     y     z\n",
              "0   1   1.06    Ideal     I     SI2   61.8   57.0   4270  6.57  6.60  4.07\n",
              "1   2   1.51  Premium     G    VVS2   60.9   58.0  15164  7.38  7.42  4.51\n",
              "2   3   0.32    Ideal     F     VS2   61.3   56.0    828  4.43  4.41  2.71\n",
              "3   4   0.53    Ideal     G     VS2   61.2   56.0   1577  5.19  5.22  3.19\n",
              "4   5   0.70  Premium     H    VVS2   61.0   57.0   2596  5.76  5.72  3.50"
            ],
            "text/html": [
              "\n",
              "  <div id=\"df-bc82728f-44fc-4a56-886e-d4ed12b57bbc\" class=\"colab-df-container\">\n",
              "    <div>\n",
              "<style scoped>\n",
              "    .dataframe tbody tr th:only-of-type {\n",
              "        vertical-align: middle;\n",
              "    }\n",
              "\n",
              "    .dataframe tbody tr th {\n",
              "        vertical-align: top;\n",
              "    }\n",
              "\n",
              "    .dataframe thead th {\n",
              "        text-align: right;\n",
              "    }\n",
              "</style>\n",
              "<table border=\"1\" class=\"dataframe\">\n",
              "  <thead>\n",
              "    <tr style=\"text-align: right;\">\n",
              "      <th></th>\n",
              "      <th>Id</th>\n",
              "      <th>carat</th>\n",
              "      <th>cut</th>\n",
              "      <th>color</th>\n",
              "      <th>clarity</th>\n",
              "      <th>depth</th>\n",
              "      <th>table</th>\n",
              "      <th>price</th>\n",
              "      <th>x</th>\n",
              "      <th>y</th>\n",
              "      <th>z</th>\n",
              "    </tr>\n",
              "  </thead>\n",
              "  <tbody>\n",
              "    <tr>\n",
              "      <th>0</th>\n",
              "      <td>1</td>\n",
              "      <td>1.06</td>\n",
              "      <td>Ideal</td>\n",
              "      <td>I</td>\n",
              "      <td>SI2</td>\n",
              "      <td>61.8</td>\n",
              "      <td>57.0</td>\n",
              "      <td>4270</td>\n",
              "      <td>6.57</td>\n",
              "      <td>6.60</td>\n",
              "      <td>4.07</td>\n",
              "    </tr>\n",
              "    <tr>\n",
              "      <th>1</th>\n",
              "      <td>2</td>\n",
              "      <td>1.51</td>\n",
              "      <td>Premium</td>\n",
              "      <td>G</td>\n",
              "      <td>VVS2</td>\n",
              "      <td>60.9</td>\n",
              "      <td>58.0</td>\n",
              "      <td>15164</td>\n",
              "      <td>7.38</td>\n",
              "      <td>7.42</td>\n",
              "      <td>4.51</td>\n",
              "    </tr>\n",
              "    <tr>\n",
              "      <th>2</th>\n",
              "      <td>3</td>\n",
              "      <td>0.32</td>\n",
              "      <td>Ideal</td>\n",
              "      <td>F</td>\n",
              "      <td>VS2</td>\n",
              "      <td>61.3</td>\n",
              "      <td>56.0</td>\n",
              "      <td>828</td>\n",
              "      <td>4.43</td>\n",
              "      <td>4.41</td>\n",
              "      <td>2.71</td>\n",
              "    </tr>\n",
              "    <tr>\n",
              "      <th>3</th>\n",
              "      <td>4</td>\n",
              "      <td>0.53</td>\n",
              "      <td>Ideal</td>\n",
              "      <td>G</td>\n",
              "      <td>VS2</td>\n",
              "      <td>61.2</td>\n",
              "      <td>56.0</td>\n",
              "      <td>1577</td>\n",
              "      <td>5.19</td>\n",
              "      <td>5.22</td>\n",
              "      <td>3.19</td>\n",
              "    </tr>\n",
              "    <tr>\n",
              "      <th>4</th>\n",
              "      <td>5</td>\n",
              "      <td>0.70</td>\n",
              "      <td>Premium</td>\n",
              "      <td>H</td>\n",
              "      <td>VVS2</td>\n",
              "      <td>61.0</td>\n",
              "      <td>57.0</td>\n",
              "      <td>2596</td>\n",
              "      <td>5.76</td>\n",
              "      <td>5.72</td>\n",
              "      <td>3.50</td>\n",
              "    </tr>\n",
              "  </tbody>\n",
              "</table>\n",
              "</div>\n",
              "    <div class=\"colab-df-buttons\">\n",
              "\n",
              "  <div class=\"colab-df-container\">\n",
              "    <button class=\"colab-df-convert\" onclick=\"convertToInteractive('df-bc82728f-44fc-4a56-886e-d4ed12b57bbc')\"\n",
              "            title=\"Convert this dataframe to an interactive table.\"\n",
              "            style=\"display:none;\">\n",
              "\n",
              "  <svg xmlns=\"http://www.w3.org/2000/svg\" height=\"24px\" viewBox=\"0 -960 960 960\">\n",
              "    <path d=\"M120-120v-720h720v720H120Zm60-500h600v-160H180v160Zm220 220h160v-160H400v160Zm0 220h160v-160H400v160ZM180-400h160v-160H180v160Zm440 0h160v-160H620v160ZM180-180h160v-160H180v160Zm440 0h160v-160H620v160Z\"/>\n",
              "  </svg>\n",
              "    </button>\n",
              "\n",
              "  <style>\n",
              "    .colab-df-container {\n",
              "      display:flex;\n",
              "      gap: 12px;\n",
              "    }\n",
              "\n",
              "    .colab-df-convert {\n",
              "      background-color: #E8F0FE;\n",
              "      border: none;\n",
              "      border-radius: 50%;\n",
              "      cursor: pointer;\n",
              "      display: none;\n",
              "      fill: #1967D2;\n",
              "      height: 32px;\n",
              "      padding: 0 0 0 0;\n",
              "      width: 32px;\n",
              "    }\n",
              "\n",
              "    .colab-df-convert:hover {\n",
              "      background-color: #E2EBFA;\n",
              "      box-shadow: 0px 1px 2px rgba(60, 64, 67, 0.3), 0px 1px 3px 1px rgba(60, 64, 67, 0.15);\n",
              "      fill: #174EA6;\n",
              "    }\n",
              "\n",
              "    .colab-df-buttons div {\n",
              "      margin-bottom: 4px;\n",
              "    }\n",
              "\n",
              "    [theme=dark] .colab-df-convert {\n",
              "      background-color: #3B4455;\n",
              "      fill: #D2E3FC;\n",
              "    }\n",
              "\n",
              "    [theme=dark] .colab-df-convert:hover {\n",
              "      background-color: #434B5C;\n",
              "      box-shadow: 0px 1px 3px 1px rgba(0, 0, 0, 0.15);\n",
              "      filter: drop-shadow(0px 1px 2px rgba(0, 0, 0, 0.3));\n",
              "      fill: #FFFFFF;\n",
              "    }\n",
              "  </style>\n",
              "\n",
              "    <script>\n",
              "      const buttonEl =\n",
              "        document.querySelector('#df-bc82728f-44fc-4a56-886e-d4ed12b57bbc button.colab-df-convert');\n",
              "      buttonEl.style.display =\n",
              "        google.colab.kernel.accessAllowed ? 'block' : 'none';\n",
              "\n",
              "      async function convertToInteractive(key) {\n",
              "        const element = document.querySelector('#df-bc82728f-44fc-4a56-886e-d4ed12b57bbc');\n",
              "        const dataTable =\n",
              "          await google.colab.kernel.invokeFunction('convertToInteractive',\n",
              "                                                    [key], {});\n",
              "        if (!dataTable) return;\n",
              "\n",
              "        const docLinkHtml = 'Like what you see? Visit the ' +\n",
              "          '<a target=\"_blank\" href=https://colab.research.google.com/notebooks/data_table.ipynb>data table notebook</a>'\n",
              "          + ' to learn more about interactive tables.';\n",
              "        element.innerHTML = '';\n",
              "        dataTable['output_type'] = 'display_data';\n",
              "        await google.colab.output.renderOutput(dataTable, element);\n",
              "        const docLink = document.createElement('div');\n",
              "        docLink.innerHTML = docLinkHtml;\n",
              "        element.appendChild(docLink);\n",
              "      }\n",
              "    </script>\n",
              "  </div>\n",
              "\n",
              "\n",
              "<div id=\"df-283ac725-5090-4cba-b7a8-5d9b0c795212\">\n",
              "  <button class=\"colab-df-quickchart\" onclick=\"quickchart('df-283ac725-5090-4cba-b7a8-5d9b0c795212')\"\n",
              "            title=\"Suggest charts\"\n",
              "            style=\"display:none;\">\n",
              "\n",
              "<svg xmlns=\"http://www.w3.org/2000/svg\" height=\"24px\"viewBox=\"0 0 24 24\"\n",
              "     width=\"24px\">\n",
              "    <g>\n",
              "        <path d=\"M19 3H5c-1.1 0-2 .9-2 2v14c0 1.1.9 2 2 2h14c1.1 0 2-.9 2-2V5c0-1.1-.9-2-2-2zM9 17H7v-7h2v7zm4 0h-2V7h2v10zm4 0h-2v-4h2v4z\"/>\n",
              "    </g>\n",
              "</svg>\n",
              "  </button>\n",
              "\n",
              "<style>\n",
              "  .colab-df-quickchart {\n",
              "      --bg-color: #E8F0FE;\n",
              "      --fill-color: #1967D2;\n",
              "      --hover-bg-color: #E2EBFA;\n",
              "      --hover-fill-color: #174EA6;\n",
              "      --disabled-fill-color: #AAA;\n",
              "      --disabled-bg-color: #DDD;\n",
              "  }\n",
              "\n",
              "  [theme=dark] .colab-df-quickchart {\n",
              "      --bg-color: #3B4455;\n",
              "      --fill-color: #D2E3FC;\n",
              "      --hover-bg-color: #434B5C;\n",
              "      --hover-fill-color: #FFFFFF;\n",
              "      --disabled-bg-color: #3B4455;\n",
              "      --disabled-fill-color: #666;\n",
              "  }\n",
              "\n",
              "  .colab-df-quickchart {\n",
              "    background-color: var(--bg-color);\n",
              "    border: none;\n",
              "    border-radius: 50%;\n",
              "    cursor: pointer;\n",
              "    display: none;\n",
              "    fill: var(--fill-color);\n",
              "    height: 32px;\n",
              "    padding: 0;\n",
              "    width: 32px;\n",
              "  }\n",
              "\n",
              "  .colab-df-quickchart:hover {\n",
              "    background-color: var(--hover-bg-color);\n",
              "    box-shadow: 0 1px 2px rgba(60, 64, 67, 0.3), 0 1px 3px 1px rgba(60, 64, 67, 0.15);\n",
              "    fill: var(--button-hover-fill-color);\n",
              "  }\n",
              "\n",
              "  .colab-df-quickchart-complete:disabled,\n",
              "  .colab-df-quickchart-complete:disabled:hover {\n",
              "    background-color: var(--disabled-bg-color);\n",
              "    fill: var(--disabled-fill-color);\n",
              "    box-shadow: none;\n",
              "  }\n",
              "\n",
              "  .colab-df-spinner {\n",
              "    border: 2px solid var(--fill-color);\n",
              "    border-color: transparent;\n",
              "    border-bottom-color: var(--fill-color);\n",
              "    animation:\n",
              "      spin 1s steps(1) infinite;\n",
              "  }\n",
              "\n",
              "  @keyframes spin {\n",
              "    0% {\n",
              "      border-color: transparent;\n",
              "      border-bottom-color: var(--fill-color);\n",
              "      border-left-color: var(--fill-color);\n",
              "    }\n",
              "    20% {\n",
              "      border-color: transparent;\n",
              "      border-left-color: var(--fill-color);\n",
              "      border-top-color: var(--fill-color);\n",
              "    }\n",
              "    30% {\n",
              "      border-color: transparent;\n",
              "      border-left-color: var(--fill-color);\n",
              "      border-top-color: var(--fill-color);\n",
              "      border-right-color: var(--fill-color);\n",
              "    }\n",
              "    40% {\n",
              "      border-color: transparent;\n",
              "      border-right-color: var(--fill-color);\n",
              "      border-top-color: var(--fill-color);\n",
              "    }\n",
              "    60% {\n",
              "      border-color: transparent;\n",
              "      border-right-color: var(--fill-color);\n",
              "    }\n",
              "    80% {\n",
              "      border-color: transparent;\n",
              "      border-right-color: var(--fill-color);\n",
              "      border-bottom-color: var(--fill-color);\n",
              "    }\n",
              "    90% {\n",
              "      border-color: transparent;\n",
              "      border-bottom-color: var(--fill-color);\n",
              "    }\n",
              "  }\n",
              "</style>\n",
              "\n",
              "  <script>\n",
              "    async function quickchart(key) {\n",
              "      const quickchartButtonEl =\n",
              "        document.querySelector('#' + key + ' button');\n",
              "      quickchartButtonEl.disabled = true;  // To prevent multiple clicks.\n",
              "      quickchartButtonEl.classList.add('colab-df-spinner');\n",
              "      try {\n",
              "        const charts = await google.colab.kernel.invokeFunction(\n",
              "            'suggestCharts', [key], {});\n",
              "      } catch (error) {\n",
              "        console.error('Error during call to suggestCharts:', error);\n",
              "      }\n",
              "      quickchartButtonEl.classList.remove('colab-df-spinner');\n",
              "      quickchartButtonEl.classList.add('colab-df-quickchart-complete');\n",
              "    }\n",
              "    (() => {\n",
              "      let quickchartButtonEl =\n",
              "        document.querySelector('#df-283ac725-5090-4cba-b7a8-5d9b0c795212 button');\n",
              "      quickchartButtonEl.style.display =\n",
              "        google.colab.kernel.accessAllowed ? 'block' : 'none';\n",
              "    })();\n",
              "  </script>\n",
              "</div>\n",
              "\n",
              "    </div>\n",
              "  </div>\n"
            ],
            "application/vnd.google.colaboratory.intrinsic+json": {
              "type": "dataframe",
              "variable_name": "data",
              "summary": "{\n  \"name\": \"data\",\n  \"rows\": 43152,\n  \"fields\": [\n    {\n      \"column\": \"Id\",\n      \"properties\": {\n        \"dtype\": \"number\",\n        \"std\": 12457,\n        \"min\": 1,\n        \"max\": 43152,\n        \"num_unique_values\": 43152,\n        \"samples\": [\n          14769,\n          33288,\n          2182\n        ],\n        \"semantic_type\": \"\",\n        \"description\": \"\"\n      }\n    },\n    {\n      \"column\": \"carat\",\n      \"properties\": {\n        \"dtype\": \"number\",\n        \"std\": 0.4735936225855274,\n        \"min\": 0.2,\n        \"max\": 5.01,\n        \"num_unique_values\": 266,\n        \"samples\": [\n          1.32,\n          1.72,\n          0.47\n        ],\n        \"semantic_type\": \"\",\n        \"description\": \"\"\n      }\n    },\n    {\n      \"column\": \"cut\",\n      \"properties\": {\n        \"dtype\": \"category\",\n        \"num_unique_values\": 5,\n        \"samples\": [\n          \"Premium\",\n          \"Good\",\n          \"Very Good\"\n        ],\n        \"semantic_type\": \"\",\n        \"description\": \"\"\n      }\n    },\n    {\n      \"column\": \"color\",\n      \"properties\": {\n        \"dtype\": \"category\",\n        \"num_unique_values\": 7,\n        \"samples\": [\n          \"I\",\n          \"G\",\n          \"E\"\n        ],\n        \"semantic_type\": \"\",\n        \"description\": \"\"\n      }\n    },\n    {\n      \"column\": \"clarity\",\n      \"properties\": {\n        \"dtype\": \"category\",\n        \"num_unique_values\": 8,\n        \"samples\": [\n          \"VVS2\",\n          \"SI1\",\n          \"SI2\"\n        ],\n        \"semantic_type\": \"\",\n        \"description\": \"\"\n      }\n    },\n    {\n      \"column\": \"depth\",\n      \"properties\": {\n        \"dtype\": \"number\",\n        \"std\": 1.4354538744826075,\n        \"min\": 43.0,\n        \"max\": 79.0,\n        \"num_unique_values\": 179,\n        \"samples\": [\n          56.9,\n          58.6,\n          59.7\n        ],\n        \"semantic_type\": \"\",\n        \"description\": \"\"\n      }\n    },\n    {\n      \"column\": \"table\",\n      \"properties\": {\n        \"dtype\": \"number\",\n        \"std\": 2.233903841503702,\n        \"min\": 43.0,\n        \"max\": 95.0,\n        \"num_unique_values\": 121,\n        \"samples\": [\n          55.3,\n          58.5,\n          62.0\n        ],\n        \"semantic_type\": \"\",\n        \"description\": \"\"\n      }\n    },\n    {\n      \"column\": \"price\",\n      \"properties\": {\n        \"dtype\": \"number\",\n        \"std\": 3985,\n        \"min\": 326,\n        \"max\": 18823,\n        \"num_unique_values\": 10640,\n        \"samples\": [\n          3290,\n          12000,\n          4641\n        ],\n        \"semantic_type\": \"\",\n        \"description\": \"\"\n      }\n    },\n    {\n      \"column\": \"x\",\n      \"properties\": {\n        \"dtype\": \"number\",\n        \"std\": 1.1212789590326664,\n        \"min\": 0.0,\n        \"max\": 10.74,\n        \"num_unique_values\": 546,\n        \"samples\": [\n          7.66,\n          4.8,\n          5.93\n        ],\n        \"semantic_type\": \"\",\n        \"description\": \"\"\n      }\n    },\n    {\n      \"column\": \"y\",\n      \"properties\": {\n        \"dtype\": \"number\",\n        \"std\": 1.1488086491186182,\n        \"min\": 0.0,\n        \"max\": 58.9,\n        \"num_unique_values\": 543,\n        \"samples\": [\n          9.81,\n          8.49,\n          4.02\n        ],\n        \"semantic_type\": \"\",\n        \"description\": \"\"\n      }\n    },\n    {\n      \"column\": \"z\",\n      \"properties\": {\n        \"dtype\": \"number\",\n        \"std\": 0.7082377680754497,\n        \"min\": 0.0,\n        \"max\": 31.8,\n        \"num_unique_values\": 368,\n        \"samples\": [\n          3.11,\n          2.82,\n          3.2\n        ],\n        \"semantic_type\": \"\",\n        \"description\": \"\"\n      }\n    }\n  ]\n}"
            }
          },
          "metadata": {},
          "execution_count": 99
        }
      ]
    },
    {
      "cell_type": "code",
      "source": [
        "data.drop('Id',axis=1,inplace=True)\n",
        "data.info()"
      ],
      "metadata": {
        "colab": {
          "base_uri": "https://localhost:8080/"
        },
        "id": "6wHcZgcnL2he",
        "outputId": "8a814d27-46a9-458e-8c67-19e7f25a45ce"
      },
      "execution_count": null,
      "outputs": [
        {
          "output_type": "stream",
          "name": "stdout",
          "text": [
            "<class 'pandas.core.frame.DataFrame'>\n",
            "RangeIndex: 43152 entries, 0 to 43151\n",
            "Data columns (total 10 columns):\n",
            " #   Column   Non-Null Count  Dtype  \n",
            "---  ------   --------------  -----  \n",
            " 0   carat    43152 non-null  float64\n",
            " 1   cut      43152 non-null  object \n",
            " 2   color    43152 non-null  object \n",
            " 3   clarity  43152 non-null  object \n",
            " 4   depth    43152 non-null  float64\n",
            " 5   table    43152 non-null  float64\n",
            " 6   price    43152 non-null  int64  \n",
            " 7   x        43152 non-null  float64\n",
            " 8   y        43152 non-null  float64\n",
            " 9   z        43152 non-null  float64\n",
            "dtypes: float64(6), int64(1), object(3)\n",
            "memory usage: 3.3+ MB\n"
          ]
        }
      ]
    },
    {
      "cell_type": "markdown",
      "source": [
        "# Handling the data"
      ],
      "metadata": {
        "id": "4r_3oS8xMLhY"
      }
    },
    {
      "cell_type": "code",
      "source": [
        "x=(data['x']==0).sum()\n",
        "y=(data['y']==0).sum()\n",
        "z=(data['z']==0).sum()\n",
        "print('the number of zero in \"x\" coulumn is : ',x)\n",
        "print('the number of zero in \"y\" coulumn is : ',y)\n",
        "print('the number of zero in \"z\" coulumn is : ',z)"
      ],
      "metadata": {
        "colab": {
          "base_uri": "https://localhost:8080/"
        },
        "id": "MgWWhQ_rMQbK",
        "outputId": "fe20b4e2-bd7b-4d79-8579-fff4d0893064"
      },
      "execution_count": null,
      "outputs": [
        {
          "output_type": "stream",
          "name": "stdout",
          "text": [
            "the number of zero in \"x\" coulumn is :  5\n",
            "the number of zero in \"y\" coulumn is :  4\n",
            "the number of zero in \"z\" coulumn is :  17\n"
          ]
        }
      ]
    },
    {
      "cell_type": "code",
      "source": [
        "data = data.drop(data[data[\"x\"]==0].index)\n",
        "data = data.drop(data[data[\"y\"]==0].index)\n",
        "data = data.drop(data[data[\"z\"]==0].index)"
      ],
      "metadata": {
        "id": "PnGSt40gMScN"
      },
      "execution_count": null,
      "outputs": []
    },
    {
      "cell_type": "code",
      "source": [
        "data.duplicated().sum()"
      ],
      "metadata": {
        "colab": {
          "base_uri": "https://localhost:8080/"
        },
        "id": "tj1OL0exMkFD",
        "outputId": "0d5ee420-ff22-4151-9e10-288e666dda0d"
      },
      "execution_count": null,
      "outputs": [
        {
          "output_type": "execute_result",
          "data": {
            "text/plain": [
              "97"
            ]
          },
          "metadata": {},
          "execution_count": 103
        }
      ]
    },
    {
      "cell_type": "code",
      "source": [
        "data.drop_duplicates(keep='first', inplace=True, ignore_index=False)\n",
        "data.duplicated().sum()"
      ],
      "metadata": {
        "colab": {
          "base_uri": "https://localhost:8080/"
        },
        "id": "xbWv69ARMmDR",
        "outputId": "a418a561-81a3-4af6-d7ba-527000aff066"
      },
      "execution_count": null,
      "outputs": [
        {
          "output_type": "execute_result",
          "data": {
            "text/plain": [
              "0"
            ]
          },
          "metadata": {},
          "execution_count": 104
        }
      ]
    },
    {
      "cell_type": "code",
      "source": [
        "data.isna().sum()"
      ],
      "metadata": {
        "colab": {
          "base_uri": "https://localhost:8080/"
        },
        "id": "odx46c90UmyJ",
        "outputId": "f9a1712b-4167-4c9a-d719-cd9d2f00ee26"
      },
      "execution_count": null,
      "outputs": [
        {
          "output_type": "execute_result",
          "data": {
            "text/plain": [
              "carat      0\n",
              "cut        0\n",
              "color      0\n",
              "clarity    0\n",
              "depth      0\n",
              "table      0\n",
              "price      0\n",
              "x          0\n",
              "y          0\n",
              "z          0\n",
              "dtype: int64"
            ]
          },
          "metadata": {},
          "execution_count": 105
        }
      ]
    },
    {
      "cell_type": "markdown",
      "source": [
        "label encoding data"
      ],
      "metadata": {
        "id": "Fe49ANulMuwY"
      }
    },
    {
      "cell_type": "code",
      "source": [
        "label_encoded_data= data.copy()\n",
        "#cut\n",
        "label_encoded_data=data.copy()\n",
        "cut_map={\"Fair\": 1 ,\"Good\": 2 ,\"Very Good\": 3 , \"Premium\": 4 , \"Ideal\": 5 }\n",
        "encoded_cut = label_encoded_data['cut'].map(cut_map)\n",
        "label_encoded_data['cut']=encoded_cut\n",
        "#color\n",
        "color_map={\"J\": 1 ,\"I\": 2 ,\"H\": 3 , \"G\": 4 , \"F\": 5 , \"E\": 6 , \"D\":7 }\n",
        "encoded_color = label_encoded_data['color'].map(color_map)\n",
        "label_encoded_data['color']=encoded_color\n",
        "#clarity\n",
        "clarity_map={\"I1\": 1 ,\"SI2\": 2 ,\"SI1\": 3 , \"VS2\": 4 , \"VS1\": 5 , \"VVS2\": 6 , \"VVS1\":7 , \"IF\":8}\n",
        "encoded_clarity = label_encoded_data['clarity'].map(clarity_map)\n",
        "label_encoded_data['clarity']=encoded_clarity\n",
        "\n",
        "print(label_encoded_data.head())\n",
        "# data_2=label_encoded_data.copy()"
      ],
      "metadata": {
        "colab": {
          "base_uri": "https://localhost:8080/"
        },
        "id": "rbtnvYYdM1K5",
        "outputId": "97c4ec63-e5af-4395-b198-4241c3858ace"
      },
      "execution_count": null,
      "outputs": [
        {
          "output_type": "stream",
          "name": "stdout",
          "text": [
            "   carat  cut  color  clarity  depth  table  price     x     y     z\n",
            "0   1.06    5      2        2   61.8   57.0   4270  6.57  6.60  4.07\n",
            "1   1.51    4      4        6   60.9   58.0  15164  7.38  7.42  4.51\n",
            "2   0.32    5      5        4   61.3   56.0    828  4.43  4.41  2.71\n",
            "3   0.53    5      4        4   61.2   56.0   1577  5.19  5.22  3.19\n",
            "4   0.70    4      3        6   61.0   57.0   2596  5.76  5.72  3.50\n"
          ]
        }
      ]
    },
    {
      "cell_type": "markdown",
      "source": [
        "One hot encoded data"
      ],
      "metadata": {
        "id": "Y4-R2yhDNTHE"
      }
    },
    {
      "cell_type": "code",
      "source": [
        "one_hot_data = data.copy()\n",
        "from sklearn.compose import ColumnTransformer\n",
        "onehotencoder= OneHotEncoder()\n",
        "# Define the ColumnTransformer\n",
        "column_transformer = ColumnTransformer(\n",
        "    transformers=[\n",
        "        ('cat', OneHotEncoder(), ['clarity', 'color','cut'])\n",
        "    ],remainder='passthrough'  # Keep the remaining columns in the dataset\n",
        ")\n",
        "# Fit and transform the data\n",
        "one_hot_data = column_transformer.fit_transform(data)\n",
        "# Get feature names\n",
        "ohe_feature_names = column_transformer.named_transformers_['cat'].get_feature_names_out(['clarity', 'color','cut'])\n",
        "numerical_cols = ['carat' ,  'depth' , 'table' , 'price','x','y','z']\n",
        "all_feature_names = list(ohe_feature_names)+numerical_cols\n",
        "\n",
        "\n",
        "one_hot_data = pd.DataFrame(one_hot_data, columns=all_feature_names)\n",
        "data_xgb = one_hot_data.copy()"
      ],
      "metadata": {
        "id": "bNQMwrsUNVk0"
      },
      "execution_count": null,
      "outputs": []
    },
    {
      "cell_type": "markdown",
      "source": [
        "# Visualizing the data"
      ],
      "metadata": {
        "id": "Or7GvQVX4y1L"
      }
    },
    {
      "cell_type": "code",
      "source": [
        "data.describe()"
      ],
      "metadata": {
        "colab": {
          "base_uri": "https://localhost:8080/"
        },
        "id": "E1wY69Wn48cP",
        "outputId": "8ae8a7a3-f9a6-4cd6-e72f-3e6334870d21"
      },
      "execution_count": null,
      "outputs": [
        {
          "output_type": "execute_result",
          "data": {
            "text/plain": [
              "              carat         depth         table         price             x  \\\n",
              "count  43038.000000  43038.000000  43038.000000  43038.000000  43038.000000   \n",
              "mean       0.797475     61.746582     57.459375   3928.189112      5.731744   \n",
              "std        0.472928      1.434702      2.233822   3982.731057      1.118784   \n",
              "min        0.200000     43.000000     43.000000    326.000000      3.730000   \n",
              "25%        0.400000     61.000000     56.000000    948.000000      4.710000   \n",
              "50%        0.700000     61.800000     57.000000   2401.000000      5.700000   \n",
              "75%        1.040000     62.500000     59.000000   5311.750000      6.540000   \n",
              "max        5.010000     79.000000     95.000000  18823.000000     10.740000   \n",
              "\n",
              "                  y             z  \n",
              "count  43038.000000  43038.000000  \n",
              "mean       5.735116      3.539926  \n",
              "std        1.146848      0.704559  \n",
              "min        3.680000      1.070000  \n",
              "25%        4.720000      2.910000  \n",
              "50%        5.710000      3.530000  \n",
              "75%        6.540000      4.040000  \n",
              "max       58.900000     31.800000  "
            ],
            "text/html": [
              "\n",
              "  <div id=\"df-859252ad-a3e7-48dc-9cd5-4af3bf05731d\" class=\"colab-df-container\">\n",
              "    <div>\n",
              "<style scoped>\n",
              "    .dataframe tbody tr th:only-of-type {\n",
              "        vertical-align: middle;\n",
              "    }\n",
              "\n",
              "    .dataframe tbody tr th {\n",
              "        vertical-align: top;\n",
              "    }\n",
              "\n",
              "    .dataframe thead th {\n",
              "        text-align: right;\n",
              "    }\n",
              "</style>\n",
              "<table border=\"1\" class=\"dataframe\">\n",
              "  <thead>\n",
              "    <tr style=\"text-align: right;\">\n",
              "      <th></th>\n",
              "      <th>carat</th>\n",
              "      <th>depth</th>\n",
              "      <th>table</th>\n",
              "      <th>price</th>\n",
              "      <th>x</th>\n",
              "      <th>y</th>\n",
              "      <th>z</th>\n",
              "    </tr>\n",
              "  </thead>\n",
              "  <tbody>\n",
              "    <tr>\n",
              "      <th>count</th>\n",
              "      <td>43038.000000</td>\n",
              "      <td>43038.000000</td>\n",
              "      <td>43038.000000</td>\n",
              "      <td>43038.000000</td>\n",
              "      <td>43038.000000</td>\n",
              "      <td>43038.000000</td>\n",
              "      <td>43038.000000</td>\n",
              "    </tr>\n",
              "    <tr>\n",
              "      <th>mean</th>\n",
              "      <td>0.797475</td>\n",
              "      <td>61.746582</td>\n",
              "      <td>57.459375</td>\n",
              "      <td>3928.189112</td>\n",
              "      <td>5.731744</td>\n",
              "      <td>5.735116</td>\n",
              "      <td>3.539926</td>\n",
              "    </tr>\n",
              "    <tr>\n",
              "      <th>std</th>\n",
              "      <td>0.472928</td>\n",
              "      <td>1.434702</td>\n",
              "      <td>2.233822</td>\n",
              "      <td>3982.731057</td>\n",
              "      <td>1.118784</td>\n",
              "      <td>1.146848</td>\n",
              "      <td>0.704559</td>\n",
              "    </tr>\n",
              "    <tr>\n",
              "      <th>min</th>\n",
              "      <td>0.200000</td>\n",
              "      <td>43.000000</td>\n",
              "      <td>43.000000</td>\n",
              "      <td>326.000000</td>\n",
              "      <td>3.730000</td>\n",
              "      <td>3.680000</td>\n",
              "      <td>1.070000</td>\n",
              "    </tr>\n",
              "    <tr>\n",
              "      <th>25%</th>\n",
              "      <td>0.400000</td>\n",
              "      <td>61.000000</td>\n",
              "      <td>56.000000</td>\n",
              "      <td>948.000000</td>\n",
              "      <td>4.710000</td>\n",
              "      <td>4.720000</td>\n",
              "      <td>2.910000</td>\n",
              "    </tr>\n",
              "    <tr>\n",
              "      <th>50%</th>\n",
              "      <td>0.700000</td>\n",
              "      <td>61.800000</td>\n",
              "      <td>57.000000</td>\n",
              "      <td>2401.000000</td>\n",
              "      <td>5.700000</td>\n",
              "      <td>5.710000</td>\n",
              "      <td>3.530000</td>\n",
              "    </tr>\n",
              "    <tr>\n",
              "      <th>75%</th>\n",
              "      <td>1.040000</td>\n",
              "      <td>62.500000</td>\n",
              "      <td>59.000000</td>\n",
              "      <td>5311.750000</td>\n",
              "      <td>6.540000</td>\n",
              "      <td>6.540000</td>\n",
              "      <td>4.040000</td>\n",
              "    </tr>\n",
              "    <tr>\n",
              "      <th>max</th>\n",
              "      <td>5.010000</td>\n",
              "      <td>79.000000</td>\n",
              "      <td>95.000000</td>\n",
              "      <td>18823.000000</td>\n",
              "      <td>10.740000</td>\n",
              "      <td>58.900000</td>\n",
              "      <td>31.800000</td>\n",
              "    </tr>\n",
              "  </tbody>\n",
              "</table>\n",
              "</div>\n",
              "    <div class=\"colab-df-buttons\">\n",
              "\n",
              "  <div class=\"colab-df-container\">\n",
              "    <button class=\"colab-df-convert\" onclick=\"convertToInteractive('df-859252ad-a3e7-48dc-9cd5-4af3bf05731d')\"\n",
              "            title=\"Convert this dataframe to an interactive table.\"\n",
              "            style=\"display:none;\">\n",
              "\n",
              "  <svg xmlns=\"http://www.w3.org/2000/svg\" height=\"24px\" viewBox=\"0 -960 960 960\">\n",
              "    <path d=\"M120-120v-720h720v720H120Zm60-500h600v-160H180v160Zm220 220h160v-160H400v160Zm0 220h160v-160H400v160ZM180-400h160v-160H180v160Zm440 0h160v-160H620v160ZM180-180h160v-160H180v160Zm440 0h160v-160H620v160Z\"/>\n",
              "  </svg>\n",
              "    </button>\n",
              "\n",
              "  <style>\n",
              "    .colab-df-container {\n",
              "      display:flex;\n",
              "      gap: 12px;\n",
              "    }\n",
              "\n",
              "    .colab-df-convert {\n",
              "      background-color: #E8F0FE;\n",
              "      border: none;\n",
              "      border-radius: 50%;\n",
              "      cursor: pointer;\n",
              "      display: none;\n",
              "      fill: #1967D2;\n",
              "      height: 32px;\n",
              "      padding: 0 0 0 0;\n",
              "      width: 32px;\n",
              "    }\n",
              "\n",
              "    .colab-df-convert:hover {\n",
              "      background-color: #E2EBFA;\n",
              "      box-shadow: 0px 1px 2px rgba(60, 64, 67, 0.3), 0px 1px 3px 1px rgba(60, 64, 67, 0.15);\n",
              "      fill: #174EA6;\n",
              "    }\n",
              "\n",
              "    .colab-df-buttons div {\n",
              "      margin-bottom: 4px;\n",
              "    }\n",
              "\n",
              "    [theme=dark] .colab-df-convert {\n",
              "      background-color: #3B4455;\n",
              "      fill: #D2E3FC;\n",
              "    }\n",
              "\n",
              "    [theme=dark] .colab-df-convert:hover {\n",
              "      background-color: #434B5C;\n",
              "      box-shadow: 0px 1px 3px 1px rgba(0, 0, 0, 0.15);\n",
              "      filter: drop-shadow(0px 1px 2px rgba(0, 0, 0, 0.3));\n",
              "      fill: #FFFFFF;\n",
              "    }\n",
              "  </style>\n",
              "\n",
              "    <script>\n",
              "      const buttonEl =\n",
              "        document.querySelector('#df-859252ad-a3e7-48dc-9cd5-4af3bf05731d button.colab-df-convert');\n",
              "      buttonEl.style.display =\n",
              "        google.colab.kernel.accessAllowed ? 'block' : 'none';\n",
              "\n",
              "      async function convertToInteractive(key) {\n",
              "        const element = document.querySelector('#df-859252ad-a3e7-48dc-9cd5-4af3bf05731d');\n",
              "        const dataTable =\n",
              "          await google.colab.kernel.invokeFunction('convertToInteractive',\n",
              "                                                    [key], {});\n",
              "        if (!dataTable) return;\n",
              "\n",
              "        const docLinkHtml = 'Like what you see? Visit the ' +\n",
              "          '<a target=\"_blank\" href=https://colab.research.google.com/notebooks/data_table.ipynb>data table notebook</a>'\n",
              "          + ' to learn more about interactive tables.';\n",
              "        element.innerHTML = '';\n",
              "        dataTable['output_type'] = 'display_data';\n",
              "        await google.colab.output.renderOutput(dataTable, element);\n",
              "        const docLink = document.createElement('div');\n",
              "        docLink.innerHTML = docLinkHtml;\n",
              "        element.appendChild(docLink);\n",
              "      }\n",
              "    </script>\n",
              "  </div>\n",
              "\n",
              "\n",
              "<div id=\"df-fc28d2e1-d742-4c4d-a2ec-2a4197df0c5c\">\n",
              "  <button class=\"colab-df-quickchart\" onclick=\"quickchart('df-fc28d2e1-d742-4c4d-a2ec-2a4197df0c5c')\"\n",
              "            title=\"Suggest charts\"\n",
              "            style=\"display:none;\">\n",
              "\n",
              "<svg xmlns=\"http://www.w3.org/2000/svg\" height=\"24px\"viewBox=\"0 0 24 24\"\n",
              "     width=\"24px\">\n",
              "    <g>\n",
              "        <path d=\"M19 3H5c-1.1 0-2 .9-2 2v14c0 1.1.9 2 2 2h14c1.1 0 2-.9 2-2V5c0-1.1-.9-2-2-2zM9 17H7v-7h2v7zm4 0h-2V7h2v10zm4 0h-2v-4h2v4z\"/>\n",
              "    </g>\n",
              "</svg>\n",
              "  </button>\n",
              "\n",
              "<style>\n",
              "  .colab-df-quickchart {\n",
              "      --bg-color: #E8F0FE;\n",
              "      --fill-color: #1967D2;\n",
              "      --hover-bg-color: #E2EBFA;\n",
              "      --hover-fill-color: #174EA6;\n",
              "      --disabled-fill-color: #AAA;\n",
              "      --disabled-bg-color: #DDD;\n",
              "  }\n",
              "\n",
              "  [theme=dark] .colab-df-quickchart {\n",
              "      --bg-color: #3B4455;\n",
              "      --fill-color: #D2E3FC;\n",
              "      --hover-bg-color: #434B5C;\n",
              "      --hover-fill-color: #FFFFFF;\n",
              "      --disabled-bg-color: #3B4455;\n",
              "      --disabled-fill-color: #666;\n",
              "  }\n",
              "\n",
              "  .colab-df-quickchart {\n",
              "    background-color: var(--bg-color);\n",
              "    border: none;\n",
              "    border-radius: 50%;\n",
              "    cursor: pointer;\n",
              "    display: none;\n",
              "    fill: var(--fill-color);\n",
              "    height: 32px;\n",
              "    padding: 0;\n",
              "    width: 32px;\n",
              "  }\n",
              "\n",
              "  .colab-df-quickchart:hover {\n",
              "    background-color: var(--hover-bg-color);\n",
              "    box-shadow: 0 1px 2px rgba(60, 64, 67, 0.3), 0 1px 3px 1px rgba(60, 64, 67, 0.15);\n",
              "    fill: var(--button-hover-fill-color);\n",
              "  }\n",
              "\n",
              "  .colab-df-quickchart-complete:disabled,\n",
              "  .colab-df-quickchart-complete:disabled:hover {\n",
              "    background-color: var(--disabled-bg-color);\n",
              "    fill: var(--disabled-fill-color);\n",
              "    box-shadow: none;\n",
              "  }\n",
              "\n",
              "  .colab-df-spinner {\n",
              "    border: 2px solid var(--fill-color);\n",
              "    border-color: transparent;\n",
              "    border-bottom-color: var(--fill-color);\n",
              "    animation:\n",
              "      spin 1s steps(1) infinite;\n",
              "  }\n",
              "\n",
              "  @keyframes spin {\n",
              "    0% {\n",
              "      border-color: transparent;\n",
              "      border-bottom-color: var(--fill-color);\n",
              "      border-left-color: var(--fill-color);\n",
              "    }\n",
              "    20% {\n",
              "      border-color: transparent;\n",
              "      border-left-color: var(--fill-color);\n",
              "      border-top-color: var(--fill-color);\n",
              "    }\n",
              "    30% {\n",
              "      border-color: transparent;\n",
              "      border-left-color: var(--fill-color);\n",
              "      border-top-color: var(--fill-color);\n",
              "      border-right-color: var(--fill-color);\n",
              "    }\n",
              "    40% {\n",
              "      border-color: transparent;\n",
              "      border-right-color: var(--fill-color);\n",
              "      border-top-color: var(--fill-color);\n",
              "    }\n",
              "    60% {\n",
              "      border-color: transparent;\n",
              "      border-right-color: var(--fill-color);\n",
              "    }\n",
              "    80% {\n",
              "      border-color: transparent;\n",
              "      border-right-color: var(--fill-color);\n",
              "      border-bottom-color: var(--fill-color);\n",
              "    }\n",
              "    90% {\n",
              "      border-color: transparent;\n",
              "      border-bottom-color: var(--fill-color);\n",
              "    }\n",
              "  }\n",
              "</style>\n",
              "\n",
              "  <script>\n",
              "    async function quickchart(key) {\n",
              "      const quickchartButtonEl =\n",
              "        document.querySelector('#' + key + ' button');\n",
              "      quickchartButtonEl.disabled = true;  // To prevent multiple clicks.\n",
              "      quickchartButtonEl.classList.add('colab-df-spinner');\n",
              "      try {\n",
              "        const charts = await google.colab.kernel.invokeFunction(\n",
              "            'suggestCharts', [key], {});\n",
              "      } catch (error) {\n",
              "        console.error('Error during call to suggestCharts:', error);\n",
              "      }\n",
              "      quickchartButtonEl.classList.remove('colab-df-spinner');\n",
              "      quickchartButtonEl.classList.add('colab-df-quickchart-complete');\n",
              "    }\n",
              "    (() => {\n",
              "      let quickchartButtonEl =\n",
              "        document.querySelector('#df-fc28d2e1-d742-4c4d-a2ec-2a4197df0c5c button');\n",
              "      quickchartButtonEl.style.display =\n",
              "        google.colab.kernel.accessAllowed ? 'block' : 'none';\n",
              "    })();\n",
              "  </script>\n",
              "</div>\n",
              "\n",
              "    </div>\n",
              "  </div>\n"
            ],
            "application/vnd.google.colaboratory.intrinsic+json": {
              "type": "dataframe",
              "summary": "{\n  \"name\": \"data\",\n  \"rows\": 8,\n  \"fields\": [\n    {\n      \"column\": \"carat\",\n      \"properties\": {\n        \"dtype\": \"number\",\n        \"std\": 15215.795508612622,\n        \"min\": 0.2,\n        \"max\": 43038.0,\n        \"num_unique_values\": 8,\n        \"samples\": [\n          0.797474789720712,\n          0.7,\n          43038.0\n        ],\n        \"semantic_type\": \"\",\n        \"description\": \"\"\n      }\n    },\n    {\n      \"column\": \"depth\",\n      \"properties\": {\n        \"dtype\": \"number\",\n        \"std\": 15197.536286527502,\n        \"min\": 1.434702242150005,\n        \"max\": 43038.0,\n        \"num_unique_values\": 8,\n        \"samples\": [\n          61.746582090245816,\n          61.8,\n          43038.0\n        ],\n        \"semantic_type\": \"\",\n        \"description\": \"\"\n      }\n    },\n    {\n      \"column\": \"table\",\n      \"properties\": {\n        \"dtype\": \"number\",\n        \"std\": 15197.579750835414,\n        \"min\": 2.233821855281383,\n        \"max\": 43038.0,\n        \"num_unique_values\": 8,\n        \"samples\": [\n          57.459375435661514,\n          57.0,\n          43038.0\n        ],\n        \"semantic_type\": \"\",\n        \"description\": \"\"\n      }\n    },\n    {\n      \"column\": \"price\",\n      \"properties\": {\n        \"dtype\": \"number\",\n        \"std\": 14626.229094060234,\n        \"min\": 326.0,\n        \"max\": 43038.0,\n        \"num_unique_values\": 8,\n        \"samples\": [\n          3928.1891119475813,\n          2401.0,\n          43038.0\n        ],\n        \"semantic_type\": \"\",\n        \"description\": \"\"\n      }\n    },\n    {\n      \"column\": \"x\",\n      \"properties\": {\n        \"dtype\": \"number\",\n        \"std\": 15214.298112958944,\n        \"min\": 1.1187837911943064,\n        \"max\": 43038.0,\n        \"num_unique_values\": 8,\n        \"samples\": [\n          5.73174380779776,\n          5.7,\n          43038.0\n        ],\n        \"semantic_type\": \"\",\n        \"description\": \"\"\n      }\n    },\n    {\n      \"column\": \"y\",\n      \"properties\": {\n        \"dtype\": \"number\",\n        \"std\": 15211.877312476532,\n        \"min\": 1.1468475677122836,\n        \"max\": 43038.0,\n        \"num_unique_values\": 8,\n        \"samples\": [\n          5.735116176402249,\n          5.71,\n          43038.0\n        ],\n        \"semantic_type\": \"\",\n        \"description\": \"\"\n      }\n    },\n    {\n      \"column\": \"z\",\n      \"properties\": {\n        \"dtype\": \"number\",\n        \"std\": 15213.830409705924,\n        \"min\": 0.7045593710849807,\n        \"max\": 43038.0,\n        \"num_unique_values\": 8,\n        \"samples\": [\n          3.5399256471025606,\n          3.53,\n          43038.0\n        ],\n        \"semantic_type\": \"\",\n        \"description\": \"\"\n      }\n    }\n  ]\n}"
            }
          },
          "metadata": {},
          "execution_count": 108
        }
      ]
    },
    {
      "cell_type": "code",
      "source": [
        "data[['carat','depth','table','x','y','z','price']].hist(bins=70, figsize=(20,10))\n",
        "plt.show()"
      ],
      "metadata": {
        "colab": {
          "base_uri": "https://localhost:8080/"
        },
        "id": "yjsCg8w85Bb2",
        "outputId": "3cb55c1d-001c-4190-e9f5-1eb29f4526e5"
      },
      "execution_count": null,
      "outputs": [
        {
          "output_type": "display_data",
          "data": {
            "text/plain": [
              "<Figure size 2000x1000 with 9 Axes>"
            ],
            "image/png": "[encoded data removed]"
          },
          "metadata": {}
        }
      ]
    },
    {
      "cell_type": "code",
      "source": [
        "columns = ['carat','table','x','y','z','price']\n",
        "colors = ['Cyan','yellowgreen', 'lightcoral', 'lightskyblue','gold', 'purple']\n",
        "fig, ax = plt.subplots(1, 6, figsize=(22, 6))\n",
        "\n",
        "for i, column in enumerate(columns):\n",
        "    sns.boxplot(data=data[column], ax=ax[i],color=colors[i])\n",
        "    ax[i].set_xlabel(columns[i])\n",
        "plt.show()"
      ],
      "metadata": {
        "colab": {
          "base_uri": "https://localhost:8080/"
        },
        "id": "yd8kB6W75f0b",
        "outputId": "d634f324-24fd-4c08-a95e-8db0f94e64e3"
      },
      "execution_count": null,
      "outputs": [
        {
          "output_type": "display_data",
          "data": {
            "text/plain": [
              "<Figure size 2200x600 with 6 Axes>"
            ],
            "image/png": "[encoded data removed]"
          },
          "metadata": {}
        }
      ]
    },
    {
      "cell_type": "code",
      "source": [
        "plt.figure(figsize=(8, 6))\n",
        "sns.heatmap(label_encoded_data.corr(), annot=True, cmap='coolwarm', fmt=\".2f\", annot_kws={\"size\": 10})\n",
        "plt.title('Correlation Matrix')\n",
        "plt.show()"
      ],
      "metadata": {
        "colab": {
          "base_uri": "https://localhost:8080/"
        },
        "id": "x8qHsABl5kZ7",
        "outputId": "a0b57a85-8b07-44ab-84b8-684f9b6a725a"
      },
      "execution_count": null,
      "outputs": [
        {
          "output_type": "display_data",
          "data": {
            "text/plain": [
              "<Figure size 800x600 with 2 Axes>"
            ],
            "image/png": "[encoded data removed]"
          },
          "metadata": {}
        }
      ]
    },
    {
      "cell_type": "markdown",
      "source": [
        "# Scaling + handling outliers"
      ],
      "metadata": {
        "id": "gJJGdjq0kcC6"
      }
    },
    {
      "cell_type": "code",
      "source": [
        "#removing the outliers for columns like cart , table , x , price , y , z\n",
        "def remove_outliers_iqr(df, multiplier = 2):\n",
        "    q1 = df.quantile(0.25)\n",
        "    q3 = df.quantile(0.75)\n",
        "    iqr = q3 - q1\n",
        "    lower_bound = q1 - multiplier * iqr\n",
        "    upper_bound = q3 + multiplier * iqr\n",
        "    return df[(df >= lower_bound) & (df <= upper_bound)]\n",
        "\n",
        "outlier_columns=[\"carat\",\"table\",\"x\",\"y\",\"z\",\"price\"]\n",
        "label_encoded_data = remove_outliers_iqr(label_encoded_data[outlier_columns])\n",
        "one_hot_data[outlier_columns] = remove_outliers_iqr(label_encoded_data[outlier_columns])"
      ],
      "metadata": {
        "id": "h8o9TDTZknbz"
      },
      "execution_count": null,
      "outputs": []
    },
    {
      "cell_type": "code",
      "source": [
        "label_encoded_data=label_encoded_data.fillna(label_encoded_data.median())\n",
        "label_encoded_data.isna().sum()"
      ],
      "metadata": {
        "colab": {
          "base_uri": "https://localhost:8080/"
        },
        "id": "1O_H9WtsV_N1",
        "outputId": "702e50ea-4567-4177-c5a2-179321fbb93b"
      },
      "execution_count": null,
      "outputs": [
        {
          "output_type": "execute_result",
          "data": {
            "text/plain": [
              "carat    0\n",
              "table    0\n",
              "x        0\n",
              "y        0\n",
              "z        0\n",
              "price    0\n",
              "dtype: int64"
            ]
          },
          "metadata": {},
          "execution_count": 113
        }
      ]
    },
    {
      "cell_type": "code",
      "source": [
        "one_hot_data=one_hot_data.fillna(one_hot_data.median())\n",
        "one_hot_data.isna().sum()"
      ],
      "metadata": {
        "colab": {
          "base_uri": "https://localhost:8080/"
        },
        "id": "rL9bteTEZWMc",
        "outputId": "5ebaf664-445d-4012-ab6b-832274dfc2a0"
      },
      "execution_count": null,
      "outputs": [
        {
          "output_type": "execute_result",
          "data": {
            "text/plain": [
              "clarity_I1       0\n",
              "clarity_IF       0\n",
              "clarity_SI1      0\n",
              "clarity_SI2      0\n",
              "clarity_VS1      0\n",
              "clarity_VS2      0\n",
              "clarity_VVS1     0\n",
              "clarity_VVS2     0\n",
              "color_D          0\n",
              "color_E          0\n",
              "color_F          0\n",
              "color_G          0\n",
              "color_H          0\n",
              "color_I          0\n",
              "color_J          0\n",
              "cut_Fair         0\n",
              "cut_Good         0\n",
              "cut_Ideal        0\n",
              "cut_Premium      0\n",
              "cut_Very Good    0\n",
              "carat            0\n",
              "depth            0\n",
              "table            0\n",
              "price            0\n",
              "x                0\n",
              "y                0\n",
              "z                0\n",
              "dtype: int64"
            ]
          },
          "metadata": {},
          "execution_count": 114
        }
      ]
    },
    {
      "cell_type": "code",
      "source": [
        "#standard scaling\n",
        "from sklearn.preprocessing import StandardScaler\n",
        "scaler_std = StandardScaler()\n",
        "label_encoded_data_stdscaling = scaler_std.fit_transform(label_encoded_data)\n",
        "label_encoded_data_stdscaling = pd.DataFrame(label_encoded_data_stdscaling, columns=label_encoded_data.columns)\n",
        "\n",
        "one_hot_data_stdscaling = scaler_std.fit_transform(one_hot_data)\n",
        "one_hot_data_stdscaling = pd.DataFrame(one_hot_data_stdscaling, columns=one_hot_data.columns)"
      ],
      "metadata": {
        "id": "rJOdmM1boMgL"
      },
      "execution_count": null,
      "outputs": []
    },
    {
      "cell_type": "code",
      "source": [
        "from sklearn.preprocessing import MinMaxScaler\n",
        "mm_scaler= MinMaxScaler()\n",
        "label_encoded_data_minmaxscaling = pd.DataFrame(mm_scaler.fit_transform(label_encoded_data), columns=label_encoded_data.columns)\n",
        "one_hot_data_minmaxscaling = pd.DataFrame(mm_scaler.fit_transform(one_hot_data), columns=one_hot_data.columns)\n"
      ],
      "metadata": {
        "id": "30EN5sEPpIQ9"
      },
      "execution_count": null,
      "outputs": []
    },
    {
      "cell_type": "markdown",
      "source": [
        "# spliting the data"
      ],
      "metadata": {
        "id": "I0chVNxqrqyR"
      }
    },
    {
      "cell_type": "code",
      "source": [
        "attributes_1=label_encoded_data_stdscaling.drop(['price' , 'x' , 'y' , 'z'],axis=1)\n",
        "labels_1 = label_encoded_data_stdscaling['price']\n",
        "\n",
        "attributes_2=one_hot_data_stdscaling.drop(['price' , 'x' , 'y' , 'z'],axis=1)\n",
        "labels_2 = one_hot_data_stdscaling['price']\n",
        "\n",
        "attributes_3=label_encoded_data_minmaxscaling.drop(['price' , 'x' , 'y' , 'z'],axis=1)\n",
        "labels_3 = label_encoded_data_minmaxscaling['price']\n",
        "\n",
        "attributes_4=one_hot_data_minmaxscaling.drop(['price' , 'x' , 'y' , 'z'],axis=1)\n",
        "labels_4 = one_hot_data_minmaxscaling['price']\n",
        "\n",
        "attributes_5=data_xgb.drop(['price' , 'x' , 'y' , 'z'],axis=1)\n",
        "labels_5 =  data_xgb['price']"
      ],
      "metadata": {
        "id": "_FsYxuvyse-a"
      },
      "execution_count": null,
      "outputs": []
    },
    {
      "cell_type": "code",
      "source": [
        "#attributes_train, attributes_test,labels_train,labels_test = train_test_split(attributes_1, labels_1, test_size=0.2, random_state=42)\n",
        "# attributes_train, attributes_test,labels_train,labels_test = train_test_split(attributes_scaled, labels, test_size=0.2, random_state=42)\n",
        "attributes_train, attributes_test,labels_train,labels_test = train_test_split(attributes_5, labels_5, test_size=0.2, random_state=42)\n",
        "# attributes_train, attributes_test,labels_train,labels_test = train_test_split(attributes_scaled, labels, test_size=0.2, random_state=42)"
      ],
      "metadata": {
        "id": "qNBzJntDr0Vi"
      },
      "execution_count": null,
      "outputs": []
    },
    {
      "cell_type": "markdown",
      "source": [
        "# Applying the models"
      ],
      "metadata": {
        "id": "PKc9Cck0Ldo6"
      }
    },
    {
      "cell_type": "code",
      "source": [
        "attributes_1.isna().sum()"
      ],
      "metadata": {
        "colab": {
          "base_uri": "https://localhost:8080/"
        },
        "id": "FWqD9BUlQ8r6",
        "outputId": "c47d102d-dd43-426e-dd17-11e4920a8d97"
      },
      "execution_count": null,
      "outputs": [
        {
          "output_type": "execute_result",
          "data": {
            "text/plain": [
              "carat    0\n",
              "table    0\n",
              "dtype: int64"
            ]
          },
          "metadata": {},
          "execution_count": 23
        }
      ]
    },
    {
      "cell_type": "code",
      "source": [
        "from sklearn.linear_model import LinearRegression\n",
        "from sklearn.tree import DecisionTreeRegressor\n",
        "from sklearn.ensemble import RandomForestRegressor\n",
        "from sklearn.svm import SVR\n",
        "from xgboost import XGBRegressor\n",
        "from sklearn.neighbors import KNeighborsRegressor\n",
        "from sklearn.model_selection import cross_val_score\n",
        "\n",
        "\n",
        "lin_reg = LinearRegression()\n",
        "lin_scores = cross_val_score(lin_reg, attributes_3, labels_3, scoring =\"neg_mean_squared_error\",cv = 10)\n",
        "\n",
        "tree_reg = DecisionTreeRegressor()\n",
        "tree_scores = cross_val_score(tree_reg, attributes_3, labels_3, scoring =\"neg_mean_squared_error\",cv = 10)\n",
        "\n",
        "forest_reg = RandomForestRegressor(n_estimators=100, random_state=42)\n",
        "rorest_scores = cross_val_score(forest_reg, attributes_3, labels_3, scoring =\"neg_mean_squared_error\",cv = 10)\n",
        "\n",
        "svr_reg = SVR(kernel=\"linear\")\n",
        "svr_scores = cross_val_score(svr_reg, attributes_3, labels_3, scoring =\"neg_mean_squared_error\",cv = 10)\n",
        "\n",
        "kN_reg = KNeighborsRegressor()\n",
        "kn_scores = cross_val_score(kN_reg, attributes_3, labels_3, scoring =\"neg_mean_squared_error\",cv = 10)"
      ],
      "metadata": {
        "id": "AFImSkLWLnEq"
      },
      "execution_count": null,
      "outputs": []
    },
    {
      "cell_type": "code",
      "source": [
        "from sklearn.ensemble import GradientBoostingRegressor\n",
        "from sklearn.metrics import mean_squared_error\n",
        "gbr = GradientBoostingRegressor(n_estimators=100, learning_rate=0.1, max_depth=3, random_state=42)\n",
        "gbr.fit(attributes_train, labels_train)\n",
        "y_pred = gbr.predict(attributes_test)\n",
        "gbr_rmse =np.sqrt( mean_squared_error(labels_test, y_pred))"
      ],
      "metadata": {
        "id": "mdai7NXw9EfL"
      },
      "execution_count": null,
      "outputs": []
    },
    {
      "cell_type": "markdown",
      "source": [
        "# Rmse"
      ],
      "metadata": {
        "id": "ZMufnCGT6FJf"
      }
    },
    {
      "cell_type": "code",
      "source": [
        "lin_rmse_scores = np.sqrt(-lin_scores)\n",
        "lin_rmse_scores.mean()"
      ],
      "metadata": {
        "id": "4ffnn75mQRK7",
        "colab": {
          "base_uri": "https://localhost:8080/"
        },
        "outputId": "83e9714b-7b49-4623-8c11-5a4491d10442"
      },
      "execution_count": null,
      "outputs": [
        {
          "output_type": "execute_result",
          "data": {
            "text/plain": [
              "0.15781330735745108"
            ]
          },
          "metadata": {},
          "execution_count": 120
        }
      ]
    },
    {
      "cell_type": "code",
      "source": [
        "tree_rmse_scores = np.sqrt(-tree_scores)\n",
        "tree_rmse_scores.mean()"
      ],
      "metadata": {
        "colab": {
          "base_uri": "https://localhost:8080/"
        },
        "id": "YU1X0HBz5g7G",
        "outputId": "8af0fe91-16e0-48c6-fea9-795444fca8b0"
      },
      "execution_count": null,
      "outputs": [
        {
          "output_type": "execute_result",
          "data": {
            "text/plain": [
              "0.17910362151541265"
            ]
          },
          "metadata": {},
          "execution_count": 121
        }
      ]
    },
    {
      "cell_type": "code",
      "source": [
        "forest_rmse_scores = np.sqrt(-rorest_scores)\n",
        "forest_rmse_scores.mean()"
      ],
      "metadata": {
        "colab": {
          "base_uri": "https://localhost:8080/"
        },
        "id": "zueYbJ1v5hoU",
        "outputId": "7608684b-08c0-4f26-fee2-9d820ff3558a"
      },
      "execution_count": null,
      "outputs": [
        {
          "output_type": "execute_result",
          "data": {
            "text/plain": [
              "0.1312342354509672"
            ]
          },
          "metadata": {},
          "execution_count": 122
        }
      ]
    },
    {
      "cell_type": "code",
      "source": [
        "svr_rmse_scores = np.sqrt(-svr_scores)\n",
        "svr_rmse_scores.mean()"
      ],
      "metadata": {
        "colab": {
          "base_uri": "https://localhost:8080/"
        },
        "id": "vMciHIOS5h2i",
        "outputId": "ea78e1e7-3337-4b87-f53f-704ead5358ef"
      },
      "execution_count": null,
      "outputs": [
        {
          "output_type": "execute_result",
          "data": {
            "text/plain": [
              "0.16394394489247763"
            ]
          },
          "metadata": {},
          "execution_count": 123
        }
      ]
    },
    {
      "cell_type": "code",
      "source": [
        "kn_rmse_scores = np.sqrt(-kn_scores)\n",
        "kn_rmse_scores.mean()"
      ],
      "metadata": {
        "colab": {
          "base_uri": "https://localhost:8080/"
        },
        "id": "bX96y3IU56us",
        "outputId": "09ccf1f4-420c-4fa2-9d3a-52c243cc2755"
      },
      "execution_count": null,
      "outputs": [
        {
          "output_type": "execute_result",
          "data": {
            "text/plain": [
              "0.14111973840234593"
            ]
          },
          "metadata": {},
          "execution_count": 124
        }
      ]
    },
    {
      "cell_type": "code",
      "source": [
        "gbr_rmse"
      ],
      "metadata": {
        "colab": {
          "base_uri": "https://localhost:8080/"
        },
        "id": "Lld5L4Pl-m5z",
        "outputId": "11a6a56e-1216-4870-845a-1ead6a1c3966"
      },
      "execution_count": null,
      "outputs": [
        {
          "output_type": "execute_result",
          "data": {
            "text/plain": [
              "726.1178636998937"
            ]
          },
          "metadata": {},
          "execution_count": 125
        }
      ]
    },
    {
      "cell_type": "markdown",
      "source": [
        "# Testing on the test file"
      ],
      "metadata": {
        "id": "te4f_jndKu3F"
      }
    },
    {
      "cell_type": "code",
      "source": [
        "final_data = data_test.copy()\n",
        "final_data.isna().sum()"
      ],
      "metadata": {
        "colab": {
          "base_uri": "https://localhost:8080/"
        },
        "id": "jIKD88R_K12e",
        "outputId": "a3610c04-3187-45ac-850d-c1a49841bfa7"
      },
      "execution_count": null,
      "outputs": [
        {
          "output_type": "execute_result",
          "data": {
            "text/plain": [
              "Id         0\n",
              "carat      0\n",
              "cut        0\n",
              "color      0\n",
              "clarity    0\n",
              "depth      0\n",
              "table      0\n",
              "x          0\n",
              "y          0\n",
              "z          0\n",
              "dtype: int64"
            ]
          },
          "metadata": {},
          "execution_count": 216
        }
      ]
    },
    {
      "cell_type": "code",
      "source": [
        "final_data = column_transformer.fit_transform(final_data)\n",
        "# Get feature names\n",
        "cc = column_transformer.named_transformers_['cat'].get_feature_names_out(['clarity', 'color','cut'])\n",
        "nn = ['carat' ,  'depth' , 'table', 'price','x','y','z' ]\n",
        "dd = list(cc)+nn\n",
        "\n",
        "final_data = pd.DataFrame(final_data, columns=dd)"
      ],
      "metadata": {
        "id": "4w_9glEMU9rM"
      },
      "execution_count": null,
      "outputs": []
    },
    {
      "cell_type": "code",
      "source": [
        "final_data.drop([\"x\",\"y\",\"z\",\"price\"],axis=1,inplace=True)\n",
        "final_data.info()"
      ],
      "metadata": {
        "colab": {
          "base_uri": "https://localhost:8080/"
        },
        "id": "JP8w2fNSLL8B",
        "outputId": "00d84867-3b1c-4883-d4ea-a18b1e3a5795"
      },
      "execution_count": null,
      "outputs": [
        {
          "output_type": "stream",
          "name": "stdout",
          "text": [
            "<class 'pandas.core.frame.DataFrame'>\n",
            "RangeIndex: 10788 entries, 0 to 10787\n",
            "Data columns (total 23 columns):\n",
            " #   Column         Non-Null Count  Dtype  \n",
            "---  ------         --------------  -----  \n",
            " 0   clarity_I1     10788 non-null  float64\n",
            " 1   clarity_IF     10788 non-null  float64\n",
            " 2   clarity_SI1    10788 non-null  float64\n",
            " 3   clarity_SI2    10788 non-null  float64\n",
            " 4   clarity_VS1    10788 non-null  float64\n",
            " 5   clarity_VS2    10788 non-null  float64\n",
            " 6   clarity_VVS1   10788 non-null  float64\n",
            " 7   clarity_VVS2   10788 non-null  float64\n",
            " 8   color_D        10788 non-null  float64\n",
            " 9   color_E        10788 non-null  float64\n",
            " 10  color_F        10788 non-null  float64\n",
            " 11  color_G        10788 non-null  float64\n",
            " 12  color_H        10788 non-null  float64\n",
            " 13  color_I        10788 non-null  float64\n",
            " 14  color_J        10788 non-null  float64\n",
            " 15  cut_Fair       10788 non-null  float64\n",
            " 16  cut_Good       10788 non-null  float64\n",
            " 17  cut_Ideal      10788 non-null  float64\n",
            " 18  cut_Premium    10788 non-null  float64\n",
            " 19  cut_Very Good  10788 non-null  float64\n",
            " 20  carat          10788 non-null  float64\n",
            " 21  depth          10788 non-null  float64\n",
            " 22  table          10788 non-null  float64\n",
            "dtypes: float64(23)\n",
            "memory usage: 1.9 MB\n"
          ]
        }
      ]
    },
    {
      "cell_type": "code",
      "source": [
        "#submission=data_test['Id']\n",
        "forest_reg.fit(attributes_5,labels_5)\n",
        "predictions=forest_reg.predict(final_data)\n"
      ],
      "metadata": {
        "id": "s3ksg6nmMaPX"
      },
      "execution_count": null,
      "outputs": []
    },
    {
      "cell_type": "code",
      "source": [
        "#submission['price'] = predictions\n",
        "submission = pd.DataFrame({'Id': data_test['Id'],'price': predictions})\n",
        "\n",
        "submission.head()"
      ],
      "metadata": {
        "colab": {
          "base_uri": "https://localhost:8080/",
          "height": 206
        },
        "id": "-k_W7vi0Qric",
        "outputId": "ac5a9e80-cdc7-495c-e93f-f683e963ecd9"
      },
      "execution_count": null,
      "outputs": [
        {
          "output_type": "execute_result",
          "data": {
            "text/plain": [
              "   Id         price\n",
              "0   1   8602.245500\n",
              "1   2  16246.283333\n",
              "2   3  17505.770000\n",
              "3   4  15446.230000\n",
              "4   5  16675.015000"
            ],
            "text/html": [
              "\n",
              "  <div id=\"df-cbf52bd2-e455-4278-8a93-0dbbb74df380\" class=\"colab-df-container\">\n",
              "    <div>\n",
              "<style scoped>\n",
              "    .dataframe tbody tr th:only-of-type {\n",
              "        vertical-align: middle;\n",
              "    }\n",
              "\n",
              "    .dataframe tbody tr th {\n",
              "        vertical-align: top;\n",
              "    }\n",
              "\n",
              "    .dataframe thead th {\n",
              "        text-align: right;\n",
              "    }\n",
              "</style>\n",
              "<table border=\"1\" class=\"dataframe\">\n",
              "  <thead>\n",
              "    <tr style=\"text-align: right;\">\n",
              "      <th></th>\n",
              "      <th>Id</th>\n",
              "      <th>price</th>\n",
              "    </tr>\n",
              "  </thead>\n",
              "  <tbody>\n",
              "    <tr>\n",
              "      <th>0</th>\n",
              "      <td>1</td>\n",
              "      <td>8602.245500</td>\n",
              "    </tr>\n",
              "    <tr>\n",
              "      <th>1</th>\n",
              "      <td>2</td>\n",
              "      <td>16246.283333</td>\n",
              "    </tr>\n",
              "    <tr>\n",
              "      <th>2</th>\n",
              "      <td>3</td>\n",
              "      <td>17505.770000</td>\n",
              "    </tr>\n",
              "    <tr>\n",
              "      <th>3</th>\n",
              "      <td>4</td>\n",
              "      <td>15446.230000</td>\n",
              "    </tr>\n",
              "    <tr>\n",
              "      <th>4</th>\n",
              "      <td>5</td>\n",
              "      <td>16675.015000</td>\n",
              "    </tr>\n",
              "  </tbody>\n",
              "</table>\n",
              "</div>\n",
              "    <div class=\"colab-df-buttons\">\n",
              "\n",
              "  <div class=\"colab-df-container\">\n",
              "    <button class=\"colab-df-convert\" onclick=\"convertToInteractive('df-cbf52bd2-e455-4278-8a93-0dbbb74df380')\"\n",
              "            title=\"Convert this dataframe to an interactive table.\"\n",
              "            style=\"display:none;\">\n",
              "\n",
              "  <svg xmlns=\"http://www.w3.org/2000/svg\" height=\"24px\" viewBox=\"0 -960 960 960\">\n",
              "    <path d=\"M120-120v-720h720v720H120Zm60-500h600v-160H180v160Zm220 220h160v-160H400v160Zm0 220h160v-160H400v160ZM180-400h160v-160H180v160Zm440 0h160v-160H620v160ZM180-180h160v-160H180v160Zm440 0h160v-160H620v160Z\"/>\n",
              "  </svg>\n",
              "    </button>\n",
              "\n",
              "  <style>\n",
              "    .colab-df-container {\n",
              "      display:flex;\n",
              "      gap: 12px;\n",
              "    }\n",
              "\n",
              "    .colab-df-convert {\n",
              "      background-color: #E8F0FE;\n",
              "      border: none;\n",
              "      border-radius: 50%;\n",
              "      cursor: pointer;\n",
              "      display: none;\n",
              "      fill: #1967D2;\n",
              "      height: 32px;\n",
              "      padding: 0 0 0 0;\n",
              "      width: 32px;\n",
              "    }\n",
              "\n",
              "    .colab-df-convert:hover {\n",
              "      background-color: #E2EBFA;\n",
              "      box-shadow: 0px 1px 2px rgba(60, 64, 67, 0.3), 0px 1px 3px 1px rgba(60, 64, 67, 0.15);\n",
              "      fill: #174EA6;\n",
              "    }\n",
              "\n",
              "    .colab-df-buttons div {\n",
              "      margin-bottom: 4px;\n",
              "    }\n",
              "\n",
              "    [theme=dark] .colab-df-convert {\n",
              "      background-color: #3B4455;\n",
              "      fill: #D2E3FC;\n",
              "    }\n",
              "\n",
              "    [theme=dark] .colab-df-convert:hover {\n",
              "      background-color: #434B5C;\n",
              "      box-shadow: 0px 1px 3px 1px rgba(0, 0, 0, 0.15);\n",
              "      filter: drop-shadow(0px 1px 2px rgba(0, 0, 0, 0.3));\n",
              "      fill: #FFFFFF;\n",
              "    }\n",
              "  </style>\n",
              "\n",
              "    <script>\n",
              "      const buttonEl =\n",
              "        document.querySelector('#df-cbf52bd2-e455-4278-8a93-0dbbb74df380 button.colab-df-convert');\n",
              "      buttonEl.style.display =\n",
              "        google.colab.kernel.accessAllowed ? 'block' : 'none';\n",
              "\n",
              "      async function convertToInteractive(key) {\n",
              "        const element = document.querySelector('#df-cbf52bd2-e455-4278-8a93-0dbbb74df380');\n",
              "        const dataTable =\n",
              "          await google.colab.kernel.invokeFunction('convertToInteractive',\n",
              "                                                    [key], {});\n",
              "        if (!dataTable) return;\n",
              "\n",
              "        const docLinkHtml = 'Like what you see? Visit the ' +\n",
              "          '<a target=\"_blank\" href=https://colab.research.google.com/notebooks/data_table.ipynb>data table notebook</a>'\n",
              "          + ' to learn more about interactive tables.';\n",
              "        element.innerHTML = '';\n",
              "        dataTable['output_type'] = 'display_data';\n",
              "        await google.colab.output.renderOutput(dataTable, element);\n",
              "        const docLink = document.createElement('div');\n",
              "        docLink.innerHTML = docLinkHtml;\n",
              "        element.appendChild(docLink);\n",
              "      }\n",
              "    </script>\n",
              "  </div>\n",
              "\n",
              "\n",
              "<div id=\"df-fa768d4b-c673-4f7d-99b0-1c8bc3df7d97\">\n",
              "  <button class=\"colab-df-quickchart\" onclick=\"quickchart('df-fa768d4b-c673-4f7d-99b0-1c8bc3df7d97')\"\n",
              "            title=\"Suggest charts\"\n",
              "            style=\"display:none;\">\n",
              "\n",
              "<svg xmlns=\"http://www.w3.org/2000/svg\" height=\"24px\"viewBox=\"0 0 24 24\"\n",
              "     width=\"24px\">\n",
              "    <g>\n",
              "        <path d=\"M19 3H5c-1.1 0-2 .9-2 2v14c0 1.1.9 2 2 2h14c1.1 0 2-.9 2-2V5c0-1.1-.9-2-2-2zM9 17H7v-7h2v7zm4 0h-2V7h2v10zm4 0h-2v-4h2v4z\"/>\n",
              "    </g>\n",
              "</svg>\n",
              "  </button>\n",
              "\n",
              "<style>\n",
              "  .colab-df-quickchart {\n",
              "      --bg-color: #E8F0FE;\n",
              "      --fill-color: #1967D2;\n",
              "      --hover-bg-color: #E2EBFA;\n",
              "      --hover-fill-color: #174EA6;\n",
              "      --disabled-fill-color: #AAA;\n",
              "      --disabled-bg-color: #DDD;\n",
              "  }\n",
              "\n",
              "  [theme=dark] .colab-df-quickchart {\n",
              "      --bg-color: #3B4455;\n",
              "      --fill-color: #D2E3FC;\n",
              "      --hover-bg-color: #434B5C;\n",
              "      --hover-fill-color: #FFFFFF;\n",
              "      --disabled-bg-color: #3B4455;\n",
              "      --disabled-fill-color: #666;\n",
              "  }\n",
              "\n",
              "  .colab-df-quickchart {\n",
              "    background-color: var(--bg-color);\n",
              "    border: none;\n",
              "    border-radius: 50%;\n",
              "    cursor: pointer;\n",
              "    display: none;\n",
              "    fill: var(--fill-color);\n",
              "    height: 32px;\n",
              "    padding: 0;\n",
              "    width: 32px;\n",
              "  }\n",
              "\n",
              "  .colab-df-quickchart:hover {\n",
              "    background-color: var(--hover-bg-color);\n",
              "    box-shadow: 0 1px 2px rgba(60, 64, 67, 0.3), 0 1px 3px 1px rgba(60, 64, 67, 0.15);\n",
              "    fill: var(--button-hover-fill-color);\n",
              "  }\n",
              "\n",
              "  .colab-df-quickchart-complete:disabled,\n",
              "  .colab-df-quickchart-complete:disabled:hover {\n",
              "    background-color: var(--disabled-bg-color);\n",
              "    fill: var(--disabled-fill-color);\n",
              "    box-shadow: none;\n",
              "  }\n",
              "\n",
              "  .colab-df-spinner {\n",
              "    border: 2px solid var(--fill-color);\n",
              "    border-color: transparent;\n",
              "    border-bottom-color: var(--fill-color);\n",
              "    animation:\n",
              "      spin 1s steps(1) infinite;\n",
              "  }\n",
              "\n",
              "  @keyframes spin {\n",
              "    0% {\n",
              "      border-color: transparent;\n",
              "      border-bottom-color: var(--fill-color);\n",
              "      border-left-color: var(--fill-color);\n",
              "    }\n",
              "    20% {\n",
              "      border-color: transparent;\n",
              "      border-left-color: var(--fill-color);\n",
              "      border-top-color: var(--fill-color);\n",
              "    }\n",
              "    30% {\n",
              "      border-color: transparent;\n",
              "      border-left-color: var(--fill-color);\n",
              "      border-top-color: var(--fill-color);\n",
              "      border-right-color: var(--fill-color);\n",
              "    }\n",
              "    40% {\n",
              "      border-color: transparent;\n",
              "      border-right-color: var(--fill-color);\n",
              "      border-top-color: var(--fill-color);\n",
              "    }\n",
              "    60% {\n",
              "      border-color: transparent;\n",
              "      border-right-color: var(--fill-color);\n",
              "    }\n",
              "    80% {\n",
              "      border-color: transparent;\n",
              "      border-right-color: var(--fill-color);\n",
              "      border-bottom-color: var(--fill-color);\n",
              "    }\n",
              "    90% {\n",
              "      border-color: transparent;\n",
              "      border-bottom-color: var(--fill-color);\n",
              "    }\n",
              "  }\n",
              "</style>\n",
              "\n",
              "  <script>\n",
              "    async function quickchart(key) {\n",
              "      const quickchartButtonEl =\n",
              "        document.querySelector('#' + key + ' button');\n",
              "      quickchartButtonEl.disabled = true;  // To prevent multiple clicks.\n",
              "      quickchartButtonEl.classList.add('colab-df-spinner');\n",
              "      try {\n",
              "        const charts = await google.colab.kernel.invokeFunction(\n",
              "            'suggestCharts', [key], {});\n",
              "      } catch (error) {\n",
              "        console.error('Error during call to suggestCharts:', error);\n",
              "      }\n",
              "      quickchartButtonEl.classList.remove('colab-df-spinner');\n",
              "      quickchartButtonEl.classList.add('colab-df-quickchart-complete');\n",
              "    }\n",
              "    (() => {\n",
              "      let quickchartButtonEl =\n",
              "        document.querySelector('#df-fa768d4b-c673-4f7d-99b0-1c8bc3df7d97 button');\n",
              "      quickchartButtonEl.style.display =\n",
              "        google.colab.kernel.accessAllowed ? 'block' : 'none';\n",
              "    })();\n",
              "  </script>\n",
              "</div>\n",
              "\n",
              "    </div>\n",
              "  </div>\n"
            ],
            "application/vnd.google.colaboratory.intrinsic+json": {
              "type": "dataframe",
              "variable_name": "submission",
              "summary": "{\n  \"name\": \"submission\",\n  \"rows\": 10788,\n  \"fields\": [\n    {\n      \"column\": \"Id\",\n      \"properties\": {\n        \"dtype\": \"number\",\n        \"std\": 3114,\n        \"min\": 1,\n        \"max\": 10788,\n        \"num_unique_values\": 10788,\n        \"samples\": [\n          4594,\n          8354,\n          3615\n        ],\n        \"semantic_type\": \"\",\n        \"description\": \"\"\n      }\n    },\n    {\n      \"column\": \"price\",\n      \"properties\": {\n        \"dtype\": \"number\",\n        \"std\": 566.8173038715921,\n        \"min\": 8602.245499999999,\n        \"max\": 18239.6825,\n        \"num_unique_values\": 1238,\n        \"samples\": [\n          16751.45,\n          16876.435,\n          15042.04\n        ],\n        \"semantic_type\": \"\",\n        \"description\": \"\"\n      }\n    }\n  ]\n}"
            }
          },
          "metadata": {},
          "execution_count": 220
        }
      ]
    },
    {
      "cell_type": "code",
      "source": [
        "submission.to_csv('submission.csv',index=None)"
      ],
      "metadata": {
        "id": "TX-Md6YsODW4"
      },
      "execution_count": null,
      "outputs": []
    },
    {
      "cell_type": "code",
      "source": [],
      "metadata": {
        "id": "J4wzbmjfP764"
      },
      "execution_count": null,
      "outputs": []
    }
  ]
}